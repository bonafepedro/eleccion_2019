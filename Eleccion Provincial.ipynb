{
 "cells": [
  {
   "cell_type": "code",
   "execution_count": 3,
   "id": "62593e65",
   "metadata": {},
   "outputs": [],
   "source": [
    "import requests \n",
    "from bs4 import BeautifulSoup as bs\n",
    "import itertools\n",
    "import string\n",
    "import pandas as pd\n",
    "import tribunal_electoral_scrape_provincia as tesc1"
   ]
  },
  {
   "cell_type": "code",
   "execution_count": null,
   "id": "a403d46b",
   "metadata": {},
   "outputs": [
    {
     "name": "stderr",
     "output_type": "stream",
     "text": [
      "C:\\Users\\usuario\\Laburo\\eleccion2019\\tribunal_electoral_scrape_provincia.py:60: GuessedAtParserWarning: No parser was explicitly specified, so I'm using the best available HTML parser for this system (\"lxml\"). This usually isn't a problem, but if you run this code on another system, or in a different virtual environment, it may use a different parser and behave differently.\n",
      "\n",
      "The code that caused this warning is on line 60 of the file C:\\Users\\usuario\\Laburo\\eleccion2019\\tribunal_electoral_scrape_provincia.py. To get rid of this warning, pass the additional argument 'features=\"lxml\"' to the BeautifulSoup constructor.\n",
      "\n",
      "  return [i.text for i in bs(response.text).select('tr td') if i.text != '']\n"
     ]
    }
   ],
   "source": [
    "lista = tesc1.get_data()"
   ]
  },
  {
   "cell_type": "code",
   "execution_count": null,
   "id": "6da1472a",
   "metadata": {},
   "outputs": [],
   "source": []
  }
 ],
 "metadata": {
  "kernelspec": {
   "display_name": "Python 3",
   "language": "python",
   "name": "python3"
  },
  "language_info": {
   "codemirror_mode": {
    "name": "ipython",
    "version": 3
   },
   "file_extension": ".py",
   "mimetype": "text/x-python",
   "name": "python",
   "nbconvert_exporter": "python",
   "pygments_lexer": "ipython3",
   "version": "3.8.8"
  }
 },
 "nbformat": 4,
 "nbformat_minor": 5
}
