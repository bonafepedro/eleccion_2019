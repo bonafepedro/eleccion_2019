{
 "cells": [
  {
   "cell_type": "code",
   "execution_count": 1,
   "id": "ff9edb7a",
   "metadata": {},
   "outputs": [],
   "source": [
    "import requests\n",
    "from bs4 import BeautifulSoup\n",
    "import csv"
   ]
  },
  {
   "cell_type": "code",
   "execution_count": 2,
   "id": "ecef1a44",
   "metadata": {},
   "outputs": [],
   "source": [
    "# URL de la página web que contiene los resultados electorales\n",
    "url = 'https://www.justiciacordoba.gob.ar/Estatico/JEL/Escrutinios/ReportesEleccion20190512/default.html'\n",
    "\n",
    "# Obtener el contenido de la página web\n",
    "response = requests.get(url)\n",
    "html = response.content\n",
    "\n",
    "# Crear un objeto BeautifulSoup a partir del contenido HTML\n",
    "soup = BeautifulSoup(html, 'html.parser')\n",
    "\n",
    "# Seleccionar la tabla de resultados para la sección capital y el cargo de gobernador\n",
    "table = soup.find('table', {'id': 'grdResultadosCapitalGobernador'})"
   ]
  },
  {
   "cell_type": "code",
   "execution_count": 3,
   "id": "47074cdb",
   "metadata": {},
   "outputs": [
    {
     "ename": "AttributeError",
     "evalue": "'NoneType' object has no attribute 'find_all'",
     "output_type": "error",
     "traceback": [
      "\u001b[1;31m---------------------------------------------------------------------------\u001b[0m",
      "\u001b[1;31mAttributeError\u001b[0m                            Traceback (most recent call last)",
      "\u001b[1;32m<ipython-input-3-80193e852bbd>\u001b[0m in \u001b[0;36m<module>\u001b[1;34m\u001b[0m\n\u001b[0;32m     24\u001b[0m \u001b[1;33m\u001b[0m\u001b[0m\n\u001b[0;32m     25\u001b[0m     \u001b[1;31m# Iterar sobre las filas de la tabla y escribir los resultados en el archivo CSV\u001b[0m\u001b[1;33m\u001b[0m\u001b[1;33m\u001b[0m\u001b[1;33m\u001b[0m\u001b[0m\n\u001b[1;32m---> 26\u001b[1;33m     \u001b[1;32mfor\u001b[0m \u001b[0mrow\u001b[0m \u001b[1;32min\u001b[0m \u001b[0mtable\u001b[0m\u001b[1;33m.\u001b[0m\u001b[0mfind_all\u001b[0m\u001b[1;33m(\u001b[0m\u001b[1;34m'tr'\u001b[0m\u001b[1;33m)\u001b[0m\u001b[1;33m:\u001b[0m\u001b[1;33m\u001b[0m\u001b[1;33m\u001b[0m\u001b[0m\n\u001b[0m\u001b[0;32m     27\u001b[0m         \u001b[0mcells\u001b[0m \u001b[1;33m=\u001b[0m \u001b[0mrow\u001b[0m\u001b[1;33m.\u001b[0m\u001b[0mfind_all\u001b[0m\u001b[1;33m(\u001b[0m\u001b[1;34m'td'\u001b[0m\u001b[1;33m)\u001b[0m\u001b[1;33m\u001b[0m\u001b[1;33m\u001b[0m\u001b[0m\n\u001b[0;32m     28\u001b[0m         \u001b[1;32mif\u001b[0m \u001b[0mlen\u001b[0m\u001b[1;33m(\u001b[0m\u001b[0mcells\u001b[0m\u001b[1;33m)\u001b[0m \u001b[1;33m==\u001b[0m \u001b[1;36m4\u001b[0m\u001b[1;33m:\u001b[0m\u001b[1;33m\u001b[0m\u001b[1;33m\u001b[0m\u001b[0m\n",
      "\u001b[1;31mAttributeError\u001b[0m: 'NoneType' object has no attribute 'find_all'"
     ]
    }
   ],
   "source": [
    "import requests\n",
    "from bs4 import BeautifulSoup\n",
    "import csv\n",
    "\n",
    "# URL de la página web que contiene los resultados electorales\n",
    "url = 'https://www.justiciacordoba.gob.ar/Estatico/JEL/Escrutinios/ReportesEleccion20190512/default.html'\n",
    "\n",
    "# Obtener el contenido de la página web\n",
    "response = requests.get(url)\n",
    "html = response.content\n",
    "\n",
    "# Crear un objeto BeautifulSoup a partir del contenido HTML\n",
    "soup = BeautifulSoup(html, 'html.parser')\n",
    "\n",
    "# Seleccionar la tabla de resultados para la sección capital y el cargo de gobernador\n",
    "table = soup.find('table', {'id': 'grdResultadosCapitalGobernador'})\n",
    "\n",
    "# Crear un archivo CSV para guardar los resultados\n",
    "with open('resultados_gobernador_capital.csv', 'w', newline='') as csvfile:\n",
    "    writer = csv.writer(csvfile)\n",
    "\n",
    "    # Escribir las columnas del archivo CSV\n",
    "    writer.writerow(['Circuito', 'Mesa', 'Más votado', 'Votos'])\n",
    "\n",
    "    # Iterar sobre las filas de la tabla y escribir los resultados en el archivo CSV\n",
    "    for row in table.find_all('tr'):\n",
    "        cells = row.find_all('td')\n",
    "        if len(cells) == 4:\n",
    "            circuito = cells[0].get_text().strip()\n",
    "            mesa = cells[1].get_text().strip()\n",
    "            mas_votado = cells[2].get_text().strip()\n",
    "            votos = cells[3].get_text().strip()\n",
    "            writer.writerow([circuito, mesa, mas_votado, votos])\n"
   ]
  },
  {
   "cell_type": "code",
   "execution_count": 5,
   "id": "2c586e4e",
   "metadata": {},
   "outputs": [
    {
     "ename": "AttributeError",
     "evalue": "'NoneType' object has no attribute 'find_all'",
     "output_type": "error",
     "traceback": [
      "\u001b[1;31m---------------------------------------------------------------------------\u001b[0m",
      "\u001b[1;31mAttributeError\u001b[0m                            Traceback (most recent call last)",
      "\u001b[1;32m<ipython-input-5-ba680464186d>\u001b[0m in \u001b[0;36m<module>\u001b[1;34m\u001b[0m\n\u001b[0;32m     24\u001b[0m \u001b[1;33m\u001b[0m\u001b[0m\n\u001b[0;32m     25\u001b[0m \u001b[1;31m# Iterar sobre las filas de la tabla y extraer los votos de cada partido en el circuito y sección seleccionados\u001b[0m\u001b[1;33m\u001b[0m\u001b[1;33m\u001b[0m\u001b[1;33m\u001b[0m\u001b[0m\n\u001b[1;32m---> 26\u001b[1;33m \u001b[1;32mfor\u001b[0m \u001b[0mrow\u001b[0m \u001b[1;32min\u001b[0m \u001b[0mtable\u001b[0m\u001b[1;33m.\u001b[0m\u001b[0mfind_all\u001b[0m\u001b[1;33m(\u001b[0m\u001b[1;34m'tr'\u001b[0m\u001b[1;33m)\u001b[0m\u001b[1;33m:\u001b[0m\u001b[1;33m\u001b[0m\u001b[1;33m\u001b[0m\u001b[0m\n\u001b[0m\u001b[0;32m     27\u001b[0m     \u001b[0mcells\u001b[0m \u001b[1;33m=\u001b[0m \u001b[0mrow\u001b[0m\u001b[1;33m.\u001b[0m\u001b[0mfind_all\u001b[0m\u001b[1;33m(\u001b[0m\u001b[1;34m'td'\u001b[0m\u001b[1;33m)\u001b[0m\u001b[1;33m\u001b[0m\u001b[1;33m\u001b[0m\u001b[0m\n\u001b[0;32m     28\u001b[0m     \u001b[1;32mif\u001b[0m \u001b[0mlen\u001b[0m\u001b[1;33m(\u001b[0m\u001b[0mcells\u001b[0m\u001b[1;33m)\u001b[0m \u001b[1;33m==\u001b[0m \u001b[1;36m4\u001b[0m\u001b[1;33m:\u001b[0m\u001b[1;33m\u001b[0m\u001b[1;33m\u001b[0m\u001b[0m\n",
      "\u001b[1;31mAttributeError\u001b[0m: 'NoneType' object has no attribute 'find_all'"
     ]
    }
   ],
   "source": [
    "import requests\n",
    "from bs4 import BeautifulSoup\n",
    "import csv\n",
    "\n",
    "# URL de la página web que contiene los resultados electorales\n",
    "url = 'https://www.justiciacordoba.gob.ar/Estatico/JEL/Escrutinios/ReportesEleccion20190512/default.html'\n",
    "\n",
    "# Obtener el contenido de la página web\n",
    "response = requests.get(url)\n",
    "html = response.content\n",
    "\n",
    "# Crear un objeto BeautifulSoup a partir del contenido HTML\n",
    "soup = BeautifulSoup(html, 'html.parser')\n",
    "\n",
    "# Seleccionar la tabla de resultados para la sección capital y el cargo de gobernador\n",
    "table = soup.find('table', {'id': 'grdResultadosCapitalGobernador'})\n",
    "\n",
    "# Definir el circuito y sección que se desea obtener\n",
    "circuito = '1|CAPITAL'\n",
    "seccion = '1|SECCIONAL PRIMERA'\n",
    "\n",
    "# Crear un diccionario para almacenar los resultados de cada partido en el circuito y sección seleccionados\n",
    "resultados = {}\n",
    "\n",
    "# Iterar sobre las filas de la tabla y extraer los votos de cada partido en el circuito y sección seleccionados\n",
    "for row in table.find_all('tr'):\n",
    "    cells = row.find_all('td')\n",
    "    if len(cells) == 4:\n",
    "        if cells[0].get_text().strip() == circuito and cells[1].get_text().strip() == seccion:\n",
    "            partido = cells[2].get_text().strip()\n",
    "            votos = cells[3].get_text().strip()\n",
    "            resultados[partido] = votos\n",
    "\n",
    "# Crear un archivo CSV para guardar los resultados\n",
    "with open('resultados_gobernador_capital.csv', 'w', newline='', encoding='utf-8') as csvfile:\n",
    "    writer = csv.writer(csvfile)\n",
    "\n",
    "    # Escribir las columnas del archivo CSV\n",
    "    writer.writerow(['Partido', 'Votos'])\n",
    "\n",
    "    # Iterar sobre los resultados y escribirlos en el archivo CSV\n",
    "    for partido, votos in resultados.items():\n",
    "        writer.writerow([partido, votos])\n"
   ]
  },
  {
   "cell_type": "code",
   "execution_count": 6,
   "id": "91e6f4ab",
   "metadata": {},
   "outputs": [
    {
     "name": "stdout",
     "output_type": "stream",
     "text": [
      "<!DOCTYPE HTML PUBLIC \"-//W3C//DTD HTML 4.0 Transitional//EN\">\n",
      "\n",
      "<html>\n",
      "<frameset border=\"0\" cols=\"*\" frameborder=\"NO\" framespacing=\"0\" id=\"fset\" rows=\"190,*\">\n",
      "<frame name=\"topFrame\" scrolling=\"NO\" src=\"Index.html\"/>\n",
      "<frame align=\"center\" name=\"mainFrame\" src=\"about:blank\"/>\n",
      "</frameset><noframes></noframes>\n",
      "</html>\n",
      "\n"
     ]
    }
   ],
   "source": [
    "print(soup)"
   ]
  }
 ],
 "metadata": {
  "kernelspec": {
   "display_name": "Python 3",
   "language": "python",
   "name": "python3"
  },
  "language_info": {
   "codemirror_mode": {
    "name": "ipython",
    "version": 3
   },
   "file_extension": ".py",
   "mimetype": "text/x-python",
   "name": "python",
   "nbconvert_exporter": "python",
   "pygments_lexer": "ipython3",
   "version": "3.8.8"
  }
 },
 "nbformat": 4,
 "nbformat_minor": 5
}
